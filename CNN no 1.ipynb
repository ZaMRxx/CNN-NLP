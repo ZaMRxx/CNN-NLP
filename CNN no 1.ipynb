{
 "cells": [
  {
   "cell_type": "markdown",
   "metadata": {},
   "source": [
    "# 1.Load Dataset"
   ]
  },
  {
   "cell_type": "code",
   "execution_count": 3,
   "metadata": {},
   "outputs": [],
   "source": [
    "import tensorflow as tf\n",
    "from tensorflow.keras import layers, models\n",
    "from tensorflow.keras.preprocessing.image import ImageDataGenerator, load_img, img_to_array\n",
    "import numpy as np\n",
    "import seaborn as sns\n",
    "import matplotlib.pyplot as plt\n",
    "from sklearn.metrics import classification_report, confusion_matrix\n",
    "import os\n",
    "\n",
    "data_path = \"C:\\\\kuliah\\\\semester 4\\\\KAL\\\\dataset\\\\asl_dataset\\\\asl_dataset\"\n",
    "output_path = \"C:\\\\kuliah\\\\semester 4\\\\KAL\\\\dataset\\\\output\"\n",
    "\n",
    "categories = {  0: \"0\",\n",
    "                1: \"1\",\n",
    "                2: \"2\",\n",
    "                3: \"3\",\n",
    "                4: \"4\",\n",
    "                5: \"5\",\n",
    "                6: \"6\",\n",
    "                7: \"7\",\n",
    "                8: \"8\",\n",
    "                9: \"9\",\n",
    "                10: \"a\",\n",
    "                11: \"b\",\n",
    "                12: \"c\",\n",
    "                13: \"d\",\n",
    "                14: \"e\",\n",
    "                15: \"f\",\n",
    "                16: \"g\",\n",
    "                17: \"h\",\n",
    "                18: \"i\",\n",
    "                19: \"j\",\n",
    "                20: \"k\",\n",
    "                21: \"l\",\n",
    "                22: \"m\",\n",
    "                23: \"n\",\n",
    "                24: \"o\",\n",
    "                25: \"p\",\n",
    "                26: \"q\",\n",
    "                27: \"r\",\n",
    "                28: \"s\",\n",
    "                29: \"t\",\n",
    "                30: \"u\",\n",
    "                31: \"v\",\n",
    "                32: \"w\",\n",
    "                33: \"x\",\n",
    "                34: \"y\",\n",
    "                35: \"z\",\n",
    "            }"
   ]
  },
  {
   "cell_type": "markdown",
   "metadata": {},
   "source": [
    "# 2.Preprocessing"
   ]
  },
  {
   "cell_type": "code",
   "execution_count": 4,
   "metadata": {},
   "outputs": [
    {
     "name": "stderr",
     "output_type": "stream",
     "text": [
      "Copying files: 2515 files [00:02, 917.89 files/s]"
     ]
    },
    {
     "name": "stdout",
     "output_type": "stream",
     "text": [
      "Found 2012 images belonging to 36 classes.\n"
     ]
    },
    {
     "name": "stderr",
     "output_type": "stream",
     "text": [
      "\n"
     ]
    },
    {
     "name": "stdout",
     "output_type": "stream",
     "text": [
      "Found 251 images belonging to 36 classes.\n",
      "Found 252 images belonging to 36 classes.\n"
     ]
    }
   ],
   "source": [
    "\n",
    "import splitfolders\n",
    "splitfolders.ratio(data_path, output=output_path, seed=1333, ratio=(0.8, 0.1, 0.1))\n",
    "\n",
    "\n",
    "datagen = ImageDataGenerator(rescale=1.0 / 255)\n",
    "batch_size, img_size = 32, 200\n",
    "\n",
    "def load_data(path):\n",
    "    return datagen.flow_from_directory(path, target_size=(img_size, img_size), batch_size=batch_size, class_mode='categorical')\n",
    "\n",
    "train_data = load_data(output_path + \"\\\\train\")\n",
    "val_data = load_data(output_path + \"\\\\val\")\n",
    "test_data = load_data(output_path + \"\\\\test\")\n",
    "\n",
    "\n",
    "\n",
    "\n"
   ]
  },
  {
   "cell_type": "markdown",
   "metadata": {},
   "source": [
    "# 3.Membangun Arsitektur CNN"
   ]
  },
  {
   "cell_type": "code",
   "execution_count": 6,
   "metadata": {},
   "outputs": [],
   "source": [
    "model = models.Sequential([\n",
    "    layers.Conv2D(32, (3,3), activation='relu', padding='same', input_shape=(img_size, img_size, 3)),\n",
    "    layers.MaxPooling2D(),\n",
    "    layers.Conv2D(64, (3,3), activation='relu', padding='same'),\n",
    "    layers.MaxPooling2D(),\n",
    "    layers.Conv2D(128, (3,3), activation='relu', padding='same'),\n",
    "    layers.MaxPooling2D(),\n",
    "    layers.Flatten(),\n",
    "    layers.Dense(512, activation='relu'),\n",
    "    layers.Dropout(0.2),\n",
    "    layers.Dense(128, activation='relu'),\n",
    "    layers.Dropout(0.3),\n",
    "    layers.Dense(36, activation='softmax')\n",
    "])\n",
    "\n",
    "\n",
    "model.compile(optimizer='adam', loss='categorical_crossentropy', metrics=['accuracy'])\n",
    "\n",
    "\n"
   ]
  },
  {
   "cell_type": "markdown",
   "metadata": {},
   "source": [
    "# 4.Training Model"
   ]
  },
  {
   "cell_type": "code",
   "execution_count": 7,
   "metadata": {},
   "outputs": [
    {
     "name": "stdout",
     "output_type": "stream",
     "text": [
      "Epoch 1/15\n",
      "\u001b[1m63/63\u001b[0m \u001b[32m━━━━━━━━━━━━━━━━━━━━\u001b[0m\u001b[37m\u001b[0m \u001b[1m62s\u001b[0m 960ms/step - accuracy: 0.2653 - loss: 2.8595 - val_accuracy: 0.8645 - val_loss: 0.4005 - learning_rate: 0.0010\n",
      "Epoch 2/15\n",
      "\u001b[1m63/63\u001b[0m \u001b[32m━━━━━━━━━━━━━━━━━━━━\u001b[0m\u001b[37m\u001b[0m \u001b[1m47s\u001b[0m 746ms/step - accuracy: 0.8307 - loss: 0.5521 - val_accuracy: 0.9283 - val_loss: 0.1953 - learning_rate: 0.0010\n",
      "Epoch 3/15\n",
      "\u001b[1m63/63\u001b[0m \u001b[32m━━━━━━━━━━━━━━━━━━━━\u001b[0m\u001b[37m\u001b[0m \u001b[1m47s\u001b[0m 743ms/step - accuracy: 0.9177 - loss: 0.2434 - val_accuracy: 0.9283 - val_loss: 0.1715 - learning_rate: 0.0010\n",
      "Epoch 4/15\n",
      "\u001b[1m63/63\u001b[0m \u001b[32m━━━━━━━━━━━━━━━━━━━━\u001b[0m\u001b[37m\u001b[0m \u001b[1m51s\u001b[0m 816ms/step - accuracy: 0.9436 - loss: 0.1701 - val_accuracy: 0.9402 - val_loss: 0.1839 - learning_rate: 0.0010\n",
      "Epoch 5/15\n",
      "\u001b[1m63/63\u001b[0m \u001b[32m━━━━━━━━━━━━━━━━━━━━\u001b[0m\u001b[37m\u001b[0m \u001b[1m57s\u001b[0m 900ms/step - accuracy: 0.9614 - loss: 0.1236 - val_accuracy: 0.9402 - val_loss: 0.1648 - learning_rate: 0.0010\n",
      "Epoch 6/15\n",
      "\u001b[1m63/63\u001b[0m \u001b[32m━━━━━━━━━━━━━━━━━━━━\u001b[0m\u001b[37m\u001b[0m \u001b[1m56s\u001b[0m 882ms/step - accuracy: 0.9640 - loss: 0.1053 - val_accuracy: 0.9641 - val_loss: 0.1311 - learning_rate: 0.0010\n",
      "Epoch 7/15\n",
      "\u001b[1m63/63\u001b[0m \u001b[32m━━━━━━━━━━━━━━━━━━━━\u001b[0m\u001b[37m\u001b[0m \u001b[1m54s\u001b[0m 853ms/step - accuracy: 0.9818 - loss: 0.0647 - val_accuracy: 0.9602 - val_loss: 0.0992 - learning_rate: 0.0010\n",
      "Epoch 8/15\n",
      "\u001b[1m63/63\u001b[0m \u001b[32m━━━━━━━━━━━━━━━━━━━━\u001b[0m\u001b[37m\u001b[0m \u001b[1m54s\u001b[0m 852ms/step - accuracy: 0.9867 - loss: 0.0412 - val_accuracy: 0.9482 - val_loss: 0.1578 - learning_rate: 0.0010\n",
      "Epoch 9/15\n",
      "\u001b[1m63/63\u001b[0m \u001b[32m━━━━━━━━━━━━━━━━━━━━\u001b[0m\u001b[37m\u001b[0m \u001b[1m53s\u001b[0m 840ms/step - accuracy: 0.9911 - loss: 0.0358 - val_accuracy: 0.9602 - val_loss: 0.1257 - learning_rate: 5.0000e-04\n",
      "Epoch 10/15\n",
      "\u001b[1m63/63\u001b[0m \u001b[32m━━━━━━━━━━━━━━━━━━━━\u001b[0m\u001b[37m\u001b[0m \u001b[1m55s\u001b[0m 872ms/step - accuracy: 0.9952 - loss: 0.0182 - val_accuracy: 0.9721 - val_loss: 0.1163 - learning_rate: 5.0000e-04\n",
      "Epoch 11/15\n",
      "\u001b[1m63/63\u001b[0m \u001b[32m━━━━━━━━━━━━━━━━━━━━\u001b[0m\u001b[37m\u001b[0m \u001b[1m55s\u001b[0m 876ms/step - accuracy: 0.9915 - loss: 0.0200 - val_accuracy: 0.9681 - val_loss: 0.0926 - learning_rate: 5.0000e-04\n",
      "Epoch 12/15\n",
      "\u001b[1m63/63\u001b[0m \u001b[32m━━━━━━━━━━━━━━━━━━━━\u001b[0m\u001b[37m\u001b[0m \u001b[1m54s\u001b[0m 863ms/step - accuracy: 0.9929 - loss: 0.0134 - val_accuracy: 0.9721 - val_loss: 0.1104 - learning_rate: 5.0000e-04\n",
      "Epoch 13/15\n",
      "\u001b[1m63/63\u001b[0m \u001b[32m━━━━━━━━━━━━━━━━━━━━\u001b[0m\u001b[37m\u001b[0m \u001b[1m58s\u001b[0m 919ms/step - accuracy: 0.9977 - loss: 0.0095 - val_accuracy: 0.9721 - val_loss: 0.1196 - learning_rate: 2.5000e-04\n",
      "Epoch 14/15\n",
      "\u001b[1m63/63\u001b[0m \u001b[32m━━━━━━━━━━━━━━━━━━━━\u001b[0m\u001b[37m\u001b[0m \u001b[1m54s\u001b[0m 857ms/step - accuracy: 0.9976 - loss: 0.0061 - val_accuracy: 0.9801 - val_loss: 0.1073 - learning_rate: 2.5000e-04\n",
      "Epoch 15/15\n",
      "\u001b[1m63/63\u001b[0m \u001b[32m━━━━━━━━━━━━━━━━━━━━\u001b[0m\u001b[37m\u001b[0m \u001b[1m55s\u001b[0m 870ms/step - accuracy: 0.9987 - loss: 0.0060 - val_accuracy: 0.9761 - val_loss: 0.1161 - learning_rate: 2.5000e-04\n"
     ]
    },
    {
     "data": {
      "text/plain": [
       "<keras.src.callbacks.history.History at 0x24dd63b20c0>"
      ]
     },
     "execution_count": 7,
     "metadata": {},
     "output_type": "execute_result"
    }
   ],
   "source": [
    "model.fit(train_data, validation_data=val_data, epochs=15, callbacks=[\n",
    "    tf.keras.callbacks.EarlyStopping(monitor='val_loss', patience=5, restore_best_weights=True),\n",
    "    tf.keras.callbacks.ReduceLROnPlateau(monitor='val_accuracy', patience=2, factor=0.5)\n",
    "])\n",
    "\n",
    "\n"
   ]
  },
  {
   "cell_type": "markdown",
   "metadata": {},
   "source": [
    "# 5.Evaluasi Model"
   ]
  },
  {
   "cell_type": "code",
   "execution_count": 9,
   "metadata": {},
   "outputs": [
    {
     "name": "stderr",
     "output_type": "stream",
     "text": [
      "c:\\Users\\zamr\\anaconda3\\Lib\\site-packages\\keras\\src\\trainers\\data_adapters\\py_dataset_adapter.py:121: UserWarning: Your `PyDataset` class should call `super().__init__(**kwargs)` in its constructor. `**kwargs` can include `workers`, `use_multiprocessing`, `max_queue_size`. Do not pass these arguments to `fit()`, as they will be ignored.\n",
      "  self._warn_if_super_not_called()\n"
     ]
    },
    {
     "name": "stdout",
     "output_type": "stream",
     "text": [
      "8/8 - 4s - 447ms/step - accuracy: 0.9484 - loss: 0.2306\n",
      "Akurasi Model: 0.9484\n"
     ]
    }
   ],
   "source": [
    "test_loss, test_acc = model.evaluate(test_data, verbose=2)\n",
    "print(f'Akurasi Model: {test_acc:.4f}')"
   ]
  },
  {
   "cell_type": "markdown",
   "metadata": {},
   "source": [
    "# 6.Prediksi Model "
   ]
  },
  {
   "cell_type": "code",
   "execution_count": null,
   "metadata": {},
   "outputs": [],
   "source": [
    "\n",
    "def predict_user_image(image_path):\n",
    "    img = load_img(image_path, target_size=(img_size, img_size))\n",
    "    img_array = img_to_array(img) / 255.0\n",
    "    img_array = np.expand_dims(img_array, axis=0)\n",
    "    prediction = np.argmax(model.predict(img_array), axis=1)[0]\n",
    "    class_label = categories[prediction]  # Get actual ASL character\n",
    "    print(f'Predicted Class: {prediction} ({class_label})')\n",
    "    return class_label\n",
    "\n",
    "\n",
    "image_path = \"hand1_a_dif_seg_5_cropped.jpeg\"\n",
    "predict_user_image(image_path)"
   ]
  }
 ],
 "metadata": {
  "kernelspec": {
   "display_name": "base",
   "language": "python",
   "name": "python3"
  },
  "language_info": {
   "codemirror_mode": {
    "name": "ipython",
    "version": 3
   },
   "file_extension": ".py",
   "mimetype": "text/x-python",
   "name": "python",
   "nbconvert_exporter": "python",
   "pygments_lexer": "ipython3",
   "version": "3.12.7"
  }
 },
 "nbformat": 4,
 "nbformat_minor": 2
}
